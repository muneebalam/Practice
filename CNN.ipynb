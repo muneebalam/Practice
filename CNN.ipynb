{
 "cells": [
  {
   "cell_type": "markdown",
   "metadata": {},
   "source": [
    "This is similar to the 'NN' notebook, but will use convolutional neural networks instead of normal neural nets on flattened arrays of the data."
   ]
  },
  {
   "cell_type": "code",
   "execution_count": 34,
   "metadata": {
    "collapsed": true
   },
   "outputs": [],
   "source": [
    "# Standard scientific Python imports\n",
    "import matplotlib.pyplot as plt\n",
    "%matplotlib inline\n",
    "\n",
    "# Import datasets, classifiers and performance metrics\n",
    "from sklearn import datasets, svm, metrics\n",
    "\n",
    "# The digits dataset\n",
    "digits = datasets.load_digits()\n",
    "\n",
    "# The data that we are interested in is made of 8x8 images of digits, let's\n",
    "# have a look at the first 4 images, stored in the `images` attribute of the\n",
    "# dataset.  If we were working from image files, we could load them using\n",
    "# matplotlib.pyplot.imread.  Note that each image must have the same size. For these\n",
    "# images, we know which digit they represent: it is given in the 'target' of\n",
    "# the dataset."
   ]
  },
  {
   "cell_type": "code",
   "execution_count": 36,
   "metadata": {},
   "outputs": [
    {
     "data": {
      "image/png": "[encoded data removed]",
      "text/plain": [
       "<matplotlib.figure.Figure at 0x123930860>"
      ]
     },
     "metadata": {},
     "output_type": "display_data"
    }
   ],
   "source": [
    "images_and_labels = list(zip(digits.images, digits.target))\n",
    "for index, (image, label) in enumerate(images_and_labels[:4]):\n",
    "    plt.subplot(2, 4, index + 1)\n",
    "    plt.axis('off')\n",
    "    plt.imshow(image, cmap=plt.cm.gray_r, interpolation='nearest')\n",
    "    plt.title('Training: %i' % label)"
   ]
  },
  {
   "cell_type": "code",
   "execution_count": 44,
   "metadata": {
    "collapsed": true
   },
   "outputs": [],
   "source": [
    "# To apply a classifier on this data, we need to flatten the image, to\n",
    "# turn the data in a (samples, feature) matrix:\n",
    "from keras.utils.np_utils import to_categorical\n",
    "digits.target_cat = to_categorical(digits.target)\n",
    "\n",
    "n_samples = len(digits.images)\n",
    "data = digits.images\n",
    "X_train = data[:n_samples // 2]\n",
    "X_test = data[n_samples // 2:]\n",
    "y_train = digits.target_cat[:n_samples // 2]\n",
    "y_test = digits.target_cat[n_samples // 2:]"
   ]
  },
  {
   "cell_type": "code",
   "execution_count": 45,
   "metadata": {},
   "outputs": [
    {
     "data": {
      "image/png": "[encoded data removed]",
      "text/plain": [
       "<matplotlib.figure.Figure at 0x122c06588>"
      ]
     },
     "metadata": {},
     "output_type": "display_data"
    }
   ],
   "source": [
    "fig, axes = plt.subplots(nrows=3, ncols=5)\n",
    "for j in range(3):\n",
    "    for i in range(5):\n",
    "        axes[j, i].imshow(X_train[j*5 + i])\n",
    "        axes[j, i].set_xticklabels([])\n",
    "        axes[j, i].set_yticklabels([])\n",
    "plt.tight_layout()"
   ]
  },
  {
   "cell_type": "code",
   "execution_count": 46,
   "metadata": {},
   "outputs": [],
   "source": [
    "X_train2 = X_train.reshape(X_train.shape[0], 1, X_train.shape[1], X_train.shape[2]) #reshape to have depth of 1\n",
    "X_test2 = X_test.reshape(X_test.shape[0], 1, X_test.shape[1], X_test.shape[2]) #need that for convolutions\n",
    "X_train2 = X_train2.astype('float32') #make it float\n",
    "X_test2 = X_test2.astype('float32')\n",
    "X_train2 /= 16 #scale 0 to 1\n",
    "X_test2 /= 16"
   ]
  },
  {
   "cell_type": "markdown",
   "metadata": {},
   "source": [
    "Using https://elitedatascience.com/keras-tutorial-deep-learning-in-python as a guide"
   ]
  },
  {
   "cell_type": "code",
   "execution_count": 50,
   "metadata": {
    "collapsed": true
   },
   "outputs": [],
   "source": [
    "from keras.models import Sequential\n",
    "from keras.layers import Dense, Dropout, Activation, Flatten\n",
    "from keras.layers import Conv2D, MaxPooling2D"
   ]
  },
  {
   "cell_type": "code",
   "execution_count": 69,
   "metadata": {},
   "outputs": [
    {
     "name": "stderr",
     "output_type": "stream",
     "text": [
      "/Users/muneebalam/anaconda/lib/python3.6/site-packages/ipykernel_launcher.py:6: UserWarning: Update your `Conv2D` call to the Keras 2 API: `Conv2D(16, (2, 2), activation=\"relu\")`\n",
      "  \n"
     ]
    },
    {
     "name": "stdout",
     "output_type": "stream",
     "text": [
      "Train on 628 samples, validate on 270 samples\n",
      "Epoch 1/50\n",
      "628/628 [==============================] - 0s - loss: 2.2557 - acc: 0.1545 - val_loss: 2.2051 - val_acc: 0.1889\n",
      "Epoch 2/50\n",
      "628/628 [==============================] - 0s - loss: 2.1600 - acc: 0.2834 - val_loss: 2.1003 - val_acc: 0.4370\n",
      "Epoch 3/50\n",
      "628/628 [==============================] - 0s - loss: 2.0308 - acc: 0.4602 - val_loss: 1.9538 - val_acc: 0.5407\n",
      "Epoch 4/50\n",
      "628/628 [==============================] - 0s - loss: 1.8479 - acc: 0.5717 - val_loss: 1.7591 - val_acc: 0.6704\n",
      "Epoch 5/50\n",
      "628/628 [==============================] - 0s - loss: 1.6320 - acc: 0.6640 - val_loss: 1.5233 - val_acc: 0.7481\n",
      "Epoch 6/50\n",
      "628/628 [==============================] - 0s - loss: 1.3949 - acc: 0.7102 - val_loss: 1.2816 - val_acc: 0.8037\n",
      "Epoch 7/50\n",
      "628/628 [==============================] - 0s - loss: 1.1662 - acc: 0.7675 - val_loss: 1.0747 - val_acc: 0.8000\n",
      "Epoch 8/50\n",
      "628/628 [==============================] - 0s - loss: 1.0082 - acc: 0.7755 - val_loss: 0.9147 - val_acc: 0.8259\n",
      "Epoch 9/50\n",
      "628/628 [==============================] - 0s - loss: 0.8806 - acc: 0.8010 - val_loss: 0.7972 - val_acc: 0.8333\n",
      "Epoch 10/50\n",
      "628/628 [==============================] - 0s - loss: 0.7389 - acc: 0.8376 - val_loss: 0.7163 - val_acc: 0.8407\n",
      "Epoch 11/50\n",
      "628/628 [==============================] - 0s - loss: 0.6658 - acc: 0.8344 - val_loss: 0.6542 - val_acc: 0.8444\n",
      "Epoch 12/50\n",
      "628/628 [==============================] - 0s - loss: 0.5950 - acc: 0.8455 - val_loss: 0.6031 - val_acc: 0.8481\n",
      "Epoch 13/50\n",
      "628/628 [==============================] - 0s - loss: 0.5280 - acc: 0.8615 - val_loss: 0.5743 - val_acc: 0.8519\n",
      "Epoch 14/50\n",
      "628/628 [==============================] - 0s - loss: 0.5117 - acc: 0.8392 - val_loss: 0.5427 - val_acc: 0.8556\n",
      "Epoch 15/50\n",
      "628/628 [==============================] - 0s - loss: 0.4478 - acc: 0.8949 - val_loss: 0.5222 - val_acc: 0.8593\n",
      "Epoch 16/50\n",
      "628/628 [==============================] - 0s - loss: 0.4293 - acc: 0.8662 - val_loss: 0.4944 - val_acc: 0.8593\n",
      "Epoch 17/50\n",
      "628/628 [==============================] - 0s - loss: 0.3973 - acc: 0.8901 - val_loss: 0.4824 - val_acc: 0.8667\n",
      "Epoch 18/50\n",
      "628/628 [==============================] - 0s - loss: 0.4062 - acc: 0.8822 - val_loss: 0.4539 - val_acc: 0.8667\n",
      "Epoch 19/50\n",
      "628/628 [==============================] - 0s - loss: 0.3394 - acc: 0.9172 - val_loss: 0.4509 - val_acc: 0.8704\n",
      "Epoch 20/50\n",
      "628/628 [==============================] - 0s - loss: 0.3337 - acc: 0.9029 - val_loss: 0.4349 - val_acc: 0.8704\n",
      "Epoch 21/50\n",
      "628/628 [==============================] - 0s - loss: 0.2926 - acc: 0.9283 - val_loss: 0.4184 - val_acc: 0.8704\n",
      "Epoch 22/50\n",
      "628/628 [==============================] - 0s - loss: 0.3099 - acc: 0.9076 - val_loss: 0.4133 - val_acc: 0.8667\n",
      "Epoch 23/50\n",
      "628/628 [==============================] - 0s - loss: 0.2759 - acc: 0.9220 - val_loss: 0.4002 - val_acc: 0.8704\n",
      "Epoch 24/50\n",
      "628/628 [==============================] - 0s - loss: 0.2550 - acc: 0.9283 - val_loss: 0.4005 - val_acc: 0.8667\n",
      "Epoch 25/50\n",
      "628/628 [==============================] - 0s - loss: 0.2363 - acc: 0.9443 - val_loss: 0.3954 - val_acc: 0.8667\n",
      "Epoch 26/50\n",
      "628/628 [==============================] - 0s - loss: 0.2317 - acc: 0.9443 - val_loss: 0.3767 - val_acc: 0.8741\n",
      "Epoch 27/50\n",
      "628/628 [==============================] - 0s - loss: 0.2274 - acc: 0.9427 - val_loss: 0.3716 - val_acc: 0.8667\n",
      "Epoch 28/50\n",
      "628/628 [==============================] - 0s - loss: 0.2193 - acc: 0.9490 - val_loss: 0.3684 - val_acc: 0.8741\n",
      "Epoch 29/50\n",
      "628/628 [==============================] - 0s - loss: 0.2255 - acc: 0.9427 - val_loss: 0.3647 - val_acc: 0.8704\n",
      "Epoch 30/50\n",
      "628/628 [==============================] - 0s - loss: 0.1894 - acc: 0.9522 - val_loss: 0.3468 - val_acc: 0.8815\n",
      "Epoch 31/50\n",
      "628/628 [==============================] - 0s - loss: 0.1670 - acc: 0.9634 - val_loss: 0.3464 - val_acc: 0.8741\n",
      "Epoch 32/50\n",
      "628/628 [==============================] - 0s - loss: 0.2051 - acc: 0.9427 - val_loss: 0.3325 - val_acc: 0.8815\n",
      "Epoch 33/50\n",
      "628/628 [==============================] - 0s - loss: 0.1633 - acc: 0.9554 - val_loss: 0.3499 - val_acc: 0.8704\n",
      "Epoch 34/50\n",
      "628/628 [==============================] - 0s - loss: 0.1665 - acc: 0.9490 - val_loss: 0.3358 - val_acc: 0.8704\n",
      "Epoch 35/50\n",
      "628/628 [==============================] - 0s - loss: 0.1622 - acc: 0.9506 - val_loss: 0.3074 - val_acc: 0.8889\n",
      "Epoch 36/50\n",
      "628/628 [==============================] - 0s - loss: 0.1658 - acc: 0.9602 - val_loss: 0.3163 - val_acc: 0.8852\n",
      "Epoch 37/50\n",
      "628/628 [==============================] - 0s - loss: 0.1609 - acc: 0.9570 - val_loss: 0.3046 - val_acc: 0.8926\n",
      "Epoch 38/50\n",
      "628/628 [==============================] - 0s - loss: 0.1366 - acc: 0.9713 - val_loss: 0.3152 - val_acc: 0.8889\n",
      "Epoch 39/50\n",
      "628/628 [==============================] - 0s - loss: 0.1457 - acc: 0.9634 - val_loss: 0.3077 - val_acc: 0.9000\n",
      "Epoch 40/50\n",
      "628/628 [==============================] - 0s - loss: 0.1382 - acc: 0.9634 - val_loss: 0.2992 - val_acc: 0.8963\n",
      "Epoch 41/50\n",
      "628/628 [==============================] - 0s - loss: 0.1313 - acc: 0.9650 - val_loss: 0.3018 - val_acc: 0.8889\n",
      "Epoch 42/50\n",
      "628/628 [==============================] - 0s - loss: 0.1325 - acc: 0.9682 - val_loss: 0.3181 - val_acc: 0.8667\n",
      "Epoch 43/50\n",
      "628/628 [==============================] - 0s - loss: 0.1365 - acc: 0.9586 - val_loss: 0.3004 - val_acc: 0.8889\n"
     ]
    },
    {
     "data": {
      "text/plain": [
       "<keras.callbacks.History at 0x122154eb8>"
      ]
     },
     "execution_count": 69,
     "metadata": {},
     "output_type": "execute_result"
    }
   ],
   "source": [
    "from keras.callbacks import EarlyStopping\n",
    "from numpy.random import seed\n",
    "seed(8)\n",
    "model = Sequential()\n",
    "model.add(Conv2D(10, (2, 2), activation='relu', input_shape=X_train2.shape[1:], data_format='channels_first'))\n",
    "model.add(Conv2D(16, 2, 2, activation='relu'))\n",
    "model.add(MaxPooling2D(pool_size=(2,2)))\n",
    "model.add(Dropout(0.25))\n",
    "model.add(Flatten())\n",
    "model.add(Dense(10, activation='softmax'))\n",
    "model.compile(optimizer='adam', loss='categorical_crossentropy', metrics=['accuracy'])\n",
    "model.fit(X_train2, y_train, validation_split=0.3, epochs=50, callbacks=[EarlyStopping(patience=2)])"
   ]
  },
  {
   "cell_type": "code",
   "execution_count": 71,
   "metadata": {},
   "outputs": [
    {
     "data": {
      "text/html": [
       "<div>\n",
       "<style>\n",
       "    .dataframe thead tr:only-child th {\n",
       "        text-align: right;\n",
       "    }\n",
       "\n",
       "    .dataframe thead th {\n",
       "        text-align: left;\n",
       "    }\n",
       "\n",
       "    .dataframe tbody tr th {\n",
       "        vertical-align: top;\n",
       "    }\n",
       "</style>\n",
       "<table border=\"1\" class=\"dataframe\">\n",
       "  <thead>\n",
       "    <tr style=\"text-align: right;\">\n",
       "      <th></th>\n",
       "      <th>precision</th>\n",
       "      <th>recall</th>\n",
       "      <th>f1-score</th>\n",
       "      <th>support</th>\n",
       "    </tr>\n",
       "    <tr>\n",
       "      <th>Digit</th>\n",
       "      <th></th>\n",
       "      <th></th>\n",
       "      <th></th>\n",
       "      <th></th>\n",
       "    </tr>\n",
       "  </thead>\n",
       "  <tbody>\n",
       "    <tr>\n",
       "      <th>0</th>\n",
       "      <td>0.99</td>\n",
       "      <td>0.97</td>\n",
       "      <td>0.98</td>\n",
       "      <td>88</td>\n",
       "    </tr>\n",
       "    <tr>\n",
       "      <th>1</th>\n",
       "      <td>0.90</td>\n",
       "      <td>0.73</td>\n",
       "      <td>0.80</td>\n",
       "      <td>91</td>\n",
       "    </tr>\n",
       "    <tr>\n",
       "      <th>2</th>\n",
       "      <td>0.92</td>\n",
       "      <td>0.90</td>\n",
       "      <td>0.91</td>\n",
       "      <td>86</td>\n",
       "    </tr>\n",
       "    <tr>\n",
       "      <th>3</th>\n",
       "      <td>0.90</td>\n",
       "      <td>0.86</td>\n",
       "      <td>0.88</td>\n",
       "      <td>91</td>\n",
       "    </tr>\n",
       "    <tr>\n",
       "      <th>4</th>\n",
       "      <td>0.96</td>\n",
       "      <td>0.95</td>\n",
       "      <td>0.95</td>\n",
       "      <td>92</td>\n",
       "    </tr>\n",
       "    <tr>\n",
       "      <th>5</th>\n",
       "      <td>0.93</td>\n",
       "      <td>0.97</td>\n",
       "      <td>0.95</td>\n",
       "      <td>91</td>\n",
       "    </tr>\n",
       "    <tr>\n",
       "      <th>6</th>\n",
       "      <td>0.93</td>\n",
       "      <td>0.98</td>\n",
       "      <td>0.95</td>\n",
       "      <td>91</td>\n",
       "    </tr>\n",
       "    <tr>\n",
       "      <th>7</th>\n",
       "      <td>0.94</td>\n",
       "      <td>0.85</td>\n",
       "      <td>0.89</td>\n",
       "      <td>89</td>\n",
       "    </tr>\n",
       "    <tr>\n",
       "      <th>8</th>\n",
       "      <td>0.74</td>\n",
       "      <td>0.81</td>\n",
       "      <td>0.77</td>\n",
       "      <td>88</td>\n",
       "    </tr>\n",
       "    <tr>\n",
       "      <th>9</th>\n",
       "      <td>0.80</td>\n",
       "      <td>0.96</td>\n",
       "      <td>0.87</td>\n",
       "      <td>92</td>\n",
       "    </tr>\n",
       "    <tr>\n",
       "      <th>avg</th>\n",
       "      <td>None</td>\n",
       "      <td>None</td>\n",
       "      <td>None</td>\n",
       "      <td>None</td>\n",
       "    </tr>\n",
       "    <tr>\n",
       "      <th>total</th>\n",
       "      <td>0.90</td>\n",
       "      <td>0.90</td>\n",
       "      <td>0.90</td>\n",
       "      <td>899</td>\n",
       "    </tr>\n",
       "  </tbody>\n",
       "</table>\n",
       "</div>"
      ],
      "text/plain": [
       "      precision recall f1-score support\n",
       "Digit                                  \n",
       "0          0.99   0.97     0.98      88\n",
       "1          0.90   0.73     0.80      91\n",
       "2          0.92   0.90     0.91      86\n",
       "3          0.90   0.86     0.88      91\n",
       "4          0.96   0.95     0.95      92\n",
       "5          0.93   0.97     0.95      91\n",
       "6          0.93   0.98     0.95      91\n",
       "7          0.94   0.85     0.89      89\n",
       "8          0.74   0.81     0.77      88\n",
       "9          0.80   0.96     0.87      92\n",
       "avg        None   None     None    None\n",
       "total      0.90   0.90     0.90     899"
      ]
     },
     "execution_count": 71,
     "metadata": {},
     "output_type": "execute_result"
    }
   ],
   "source": [
    "predictions = model.predict(X_test2)\n",
    "# The classification report required 1D arrays, so I'll convert everything to max probability\n",
    "from numpy import argmax\n",
    "predictions1D = argmax(predictions, axis=1) #should have shape (899,)\n",
    "y_test1D = argmax(y_test, axis=1)\n",
    "report = metrics.classification_report(y_test1D, predictions1D)\n",
    "\n",
    "import pandas as pd #for formatting\n",
    "df = pd.DataFrame([x.split() for x in report.replace('/', '\\n').split('\\n')]) #have a problematic slash in there\n",
    "from numpy import concatenate, array\n",
    "df.columns = concatenate([array(['Digit']), df.iloc[0,:-1]])\n",
    "df.drop(df.index[:2], inplace=True)\n",
    "df.set_index('Digit', inplace=True)\n",
    "df.drop(df.index[pd.isnull(df.index.values)], inplace=True)\n",
    "df"
   ]
  },
  {
   "cell_type": "markdown",
   "metadata": {},
   "source": [
    "This looks like it stabilized around 90% accuracy. "
   ]
  },
  {
   "cell_type": "code",
   "execution_count": 72,
   "metadata": {},
   "outputs": [
    {
     "data": {
      "text/plain": [
       "0.89543937708565069"
      ]
     },
     "execution_count": 72,
     "metadata": {},
     "output_type": "execute_result"
    }
   ],
   "source": [
    "sum(predictions1D == y_test1D)/len(y_test1D)"
   ]
  },
  {
   "cell_type": "markdown",
   "metadata": {},
   "source": [
    "This is a little better than the other neural network but still much worse than, say, SVM, which got to 97%."
   ]
  },
  {
   "cell_type": "code",
   "execution_count": null,
   "metadata": {
    "collapsed": true
   },
   "outputs": [],
   "source": []
  }
 ],
 "metadata": {
  "kernelspec": {
   "display_name": "Python 3",
   "language": "python",
   "name": "python3"
  },
  "language_info": {
   "codemirror_mode": {
    "name": "ipython",
    "version": 3
   },
   "file_extension": ".py",
   "mimetype": "text/x-python",
   "name": "python",
   "nbconvert_exporter": "python",
   "pygments_lexer": "ipython3",
   "version": "3.6.1"
  }
 },
 "nbformat": 4,
 "nbformat_minor": 2
}
