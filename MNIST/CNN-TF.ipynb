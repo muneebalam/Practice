{
 "cells": [
  {
   "cell_type": "markdown",
   "metadata": {},
   "source": [
    "This is similar to the 'CNN' notebook, but will use pure tensorflow."
   ]
  },
  {
   "cell_type": "code",
   "execution_count": 1,
   "metadata": {
    "collapsed": true
   },
   "outputs": [],
   "source": [
    "# Standard scientific Python imports\n",
    "import matplotlib.pyplot as plt\n",
    "%matplotlib inline\n",
    "\n",
    "# Import datasets, classifiers and performance metrics\n",
    "from sklearn import datasets, svm, metrics\n",
    "\n",
    "# The digits dataset\n",
    "digits = datasets.load_digits()\n",
    "\n",
    "import tensorflow as tf\n",
    "#sess = tf.InteractiveSession()\n",
    "import numpy as np\n",
    "\n",
    "# The data that we are interested in is made of 8x8 images of digits, let's\n",
    "# have a look at the first 4 images, stored in the `images` attribute of the\n",
    "# dataset.  If we were working from image files, we could load them using\n",
    "# matplotlib.pyplot.imread.  Note that each image must have the same size. For these\n",
    "# images, we know which digit they represent: it is given in the 'target' of\n",
    "# the dataset."
   ]
  },
  {
   "cell_type": "code",
   "execution_count": 2,
   "metadata": {},
   "outputs": [
    {
     "data": {
      "image/png": "[encoded data removed]",
      "text/plain": [
       "<matplotlib.figure.Figure at 0x11a4be710>"
      ]
     },
     "metadata": {},
     "output_type": "display_data"
    }
   ],
   "source": [
    "images_and_labels = list(zip(digits.images, digits.target))\n",
    "for index, (image, label) in enumerate(images_and_labels[:4]):\n",
    "    plt.subplot(2, 4, index + 1)\n",
    "    plt.axis('off')\n",
    "    plt.imshow(image, cmap=plt.cm.gray_r, interpolation='nearest')\n",
    "    plt.title('Training: %i' % label)"
   ]
  },
  {
   "cell_type": "code",
   "execution_count": 3,
   "metadata": {
    "collapsed": true
   },
   "outputs": [],
   "source": [
    "# To apply a classifier on this data, we need to flatten the image, to\n",
    "# turn the data in a (samples, feature) matrix:\n",
    "digits.target_cat = tf.one_hot(digits.target, 10)\n",
    "\n",
    "n_samples = len(digits.images)\n",
    "data = digits.images\n",
    "X_train = data[:n_samples // 2]\n",
    "X_test = data[n_samples // 2:]\n",
    "y_train = digits.target_cat[:n_samples // 2]\n",
    "y_test = digits.target_cat[n_samples // 2:]"
   ]
  },
  {
   "cell_type": "code",
   "execution_count": 4,
   "metadata": {},
   "outputs": [
    {
     "data": {
      "image/png": "[encoded data removed]",
      "text/plain": [
       "<matplotlib.figure.Figure at 0x11daae3c8>"
      ]
     },
     "metadata": {},
     "output_type": "display_data"
    }
   ],
   "source": [
    "fig, axes = plt.subplots(nrows=3, ncols=5)\n",
    "for j in range(3):\n",
    "    for i in range(5):\n",
    "        axes[j, i].imshow(X_train[j*5 + i])\n",
    "        axes[j, i].set_xticklabels([])\n",
    "        axes[j, i].set_yticklabels([])\n",
    "plt.tight_layout()"
   ]
  },
  {
   "cell_type": "code",
   "execution_count": 5,
   "metadata": {
    "collapsed": true
   },
   "outputs": [],
   "source": [
    "x = tf.placeholder(tf.float32, shape=[None, 8, 8])\n",
    "y_ = tf.placeholder(tf.float32, shape=[None, 10])\n",
    "#W = tf.Variable(tf.zeros([64, 10]))\n",
    "#b = tf.Variable(tf.zeros([10]))\n",
    "#y = tf.nn.softmax(tf.matmul(x, W) + b)"
   ]
  },
  {
   "cell_type": "code",
   "execution_count": 6,
   "metadata": {
    "collapsed": true
   },
   "outputs": [],
   "source": [
    "def weight_variable(shape):\n",
    "  initial = tf.truncated_normal(shape, stddev=0.1)\n",
    "  return tf.Variable(initial)\n",
    "\n",
    "def bias_variable(shape):\n",
    "  initial = tf.constant(0.1, shape=shape)\n",
    "  return tf.Variable(initial)\n",
    "def conv2d(x, W):\n",
    "  return tf.nn.conv2d(x, W, strides=[1, 1, 1, 1], padding='SAME')\n",
    "\n",
    "def max_pool_2x2(x):\n",
    "  return tf.nn.max_pool(x, ksize=[1, 2, 2, 1],\n",
    "                        strides=[1, 2, 2, 1], padding='SAME')"
   ]
  },
  {
   "cell_type": "markdown",
   "metadata": {},
   "source": [
    "Here's the structure we want to mimic:\n",
    "<ol>\n",
    "    <li>Input: N x 8 x 8\n",
    "        <ul><li>Reshape to N x 8 x 8 x 1</li></ul>\n",
    "    <li>Convolutional (2x2, 10 features)\n",
    "        <ul><li>Weights: 2 x 2 x 1 x 10</li>\n",
    "            <li>Bias: 10</li></ul>\n",
    "    <li>Convolutional (2x2, 16 features)\n",
    "        <ul><li>Weights: 2 x 2 x 10 x 16</li>\n",
    "            <li>Bias: 16</li></ul>\n",
    "    <li>Max Pooling (2x2)\n",
    "        <ul><li>Cuts rows and cols by half</li></ul>\n",
    "    <li>Dropout (25%)\n",
    "    <li>Flatten\n",
    "        <ul><li>Reshape to N x (8x8x16/4=256)</li></ul>\n",
    "    <li>Dense (10, softmax)\n",
    "        <ul><li>Weights: 256 x 10</li>\n",
    "            <li>Bias: 10</li></ul>\n",
    "</ol>"
   ]
  },
  {
   "cell_type": "code",
   "execution_count": 7,
   "metadata": {
    "collapsed": true
   },
   "outputs": [],
   "source": [
    "x_image = tf.reshape(x, [-1, 8, 8, 1]) #[-1==automatic depending on next 3 dims, width, height, color channels]\n",
    "\n",
    "W_conv1 = weight_variable([2, 2, 1, 10]) #[rows, cols, input channels, num features per window]\n",
    "b_conv1 = bias_variable([10]) #1 for each output channel\n",
    "h_conv1 = tf.nn.relu(conv2d(x_image, W_conv1) + b_conv1)\n",
    "\n",
    "W_conv2 = weight_variable([2, 2, 10, 16]) #[rows, cols, input matches output of prev, output]\n",
    "b_conv2 = bias_variable([16])\n",
    "h_conv2 = tf.nn.relu(conv2d(h_conv1, W_conv2) + b_conv2)\n",
    "h_pool2 = max_pool_2x2(h_conv2)\n",
    "\n",
    "keep_prob = tf.placeholder(tf.float32)\n",
    "h_pool2_drop = tf.nn.dropout(h_pool2, keep_prob)\n",
    "\n",
    "h_pool2_flat = tf.reshape(h_pool2_drop, [-1, 256])\n",
    "W_dense3 = weight_variable([256, 10])\n",
    "b_dense3 = bias_variable([10])\n",
    "y_conv = tf.matmul(h_pool2_flat, W_dense3) + b_dense3"
   ]
  },
  {
   "cell_type": "code",
   "execution_count": 8,
   "metadata": {},
   "outputs": [
    {
     "name": "stdout",
     "output_type": "stream",
     "text": [
      "step 0, training accuracy 0.06\n",
      "step 100, training accuracy 0.12\n",
      "step 200, training accuracy 0.45\n",
      "step 300, training accuracy 0.53\n",
      "step 400, training accuracy 0.68\n",
      "step 500, training accuracy 0.91\n",
      "step 600, training accuracy 0.89\n",
      "step 700, training accuracy 0.86\n",
      "step 800, training accuracy 0.82\n",
      "step 900, training accuracy 0.95\n",
      "step 1000, training accuracy 0.9\n",
      "step 1100, training accuracy 0.92\n",
      "step 1200, training accuracy 0.91\n",
      "step 1300, training accuracy 0.95\n",
      "step 1400, training accuracy 0.93\n",
      "step 1500, training accuracy 0.97\n",
      "step 1600, training accuracy 0.97\n",
      "step 1700, training accuracy 0.94\n",
      "step 1800, training accuracy 0.99\n",
      "step 1900, training accuracy 0.96\n",
      "test accuracy 0.94327\n"
     ]
    }
   ],
   "source": [
    "cross_entropy = tf.reduce_mean(\n",
    "    tf.nn.softmax_cross_entropy_with_logits(labels=y_, logits=y_conv))\n",
    "train_step = tf.train.AdamOptimizer(1e-4).minimize(cross_entropy)\n",
    "correct_prediction = tf.equal(tf.argmax(y_conv, 1), tf.argmax(y_, 1))\n",
    "accuracy = tf.reduce_mean(tf.cast(correct_prediction, tf.float32))\n",
    "\n",
    "with tf.Session() as sess:\n",
    "    sess.run(tf.global_variables_initializer())\n",
    "    for i in range(2000):\n",
    "        indices = np.random.randint(X_train.shape[0], size=100)\n",
    "        batch_xs = X_train[indices, :]\n",
    "        batch_ys = sess.run(tf.gather(y_train, indices))\n",
    "        batch = [batch_xs, batch_ys]\n",
    "        if i % 100 == 0:\n",
    "            pass\n",
    "            train_accuracy = accuracy.eval(feed_dict={x: batch[0], y_: batch[1], keep_prob: 1.0})\n",
    "            print('step %d, training accuracy %g' % (i, train_accuracy))\n",
    "        train_step.run(feed_dict={x: batch[0], y_: batch[1], keep_prob: 0.5})\n",
    "\n",
    "    print('test accuracy %g' % accuracy.eval(feed_dict={\n",
    "        x: X_test, y_: sess.run(y_test), keep_prob: 1.0}))\n"
   ]
  },
  {
   "cell_type": "markdown",
   "metadata": {},
   "source": [
    "This looks like it got to around 90% accuracy within 1000 iterations and is already around 95% in 2000. The TensorFlow example used a larger network (an extra pooling layer, an extra dense layer, 2-4x larger convolutional layers, and final dense layers with ~10x as many features to get to ~99.7%."
   ]
  },
  {
   "cell_type": "code",
   "execution_count": null,
   "metadata": {
    "collapsed": true
   },
   "outputs": [],
   "source": []
  }
 ],
 "metadata": {
  "kernelspec": {
   "display_name": "Python 3",
   "language": "python",
   "name": "python3"
  },
  "language_info": {
   "codemirror_mode": {
    "name": "ipython",
    "version": 3
   },
   "file_extension": ".py",
   "mimetype": "text/x-python",
   "name": "python",
   "nbconvert_exporter": "python",
   "pygments_lexer": "ipython3",
   "version": "3.6.1"
  }
 },
 "nbformat": 4,
 "nbformat_minor": 2
}
