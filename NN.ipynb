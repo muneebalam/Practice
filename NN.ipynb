{
 "cells": [
  {
   "cell_type": "code",
   "execution_count": 1,
   "metadata": {
    "collapsed": true
   },
   "outputs": [],
   "source": [
    "# Standard scientific Python imports\n",
    "import matplotlib.pyplot as plt\n",
    "\n",
    "# Import datasets, classifiers and performance metrics\n",
    "from sklearn import datasets, svm, metrics\n",
    "\n",
    "# The digits dataset\n",
    "digits = datasets.load_digits()\n",
    "\n",
    "# The data that we are interested in is made of 8x8 images of digits, let's\n",
    "# have a look at the first 4 images, stored in the `images` attribute of the\n",
    "# dataset.  If we were working from image files, we could load them using\n",
    "# matplotlib.pyplot.imread.  Note that each image must have the same size. For these\n",
    "# images, we know which digit they represent: it is given in the 'target' of\n",
    "# the dataset."
   ]
  },
  {
   "cell_type": "code",
   "execution_count": 2,
   "metadata": {
    "collapsed": true
   },
   "outputs": [],
   "source": [
    "images_and_labels = list(zip(digits.images, digits.target))\n",
    "for index, (image, label) in enumerate(images_and_labels[:4]):\n",
    "    plt.subplot(2, 4, index + 1)\n",
    "    plt.axis('off')\n",
    "    plt.imshow(image, cmap=plt.cm.gray_r, interpolation='nearest')\n",
    "    plt.title('Training: %i' % label)"
   ]
  },
  {
   "cell_type": "code",
   "execution_count": 3,
   "metadata": {},
   "outputs": [
    {
     "name": "stderr",
     "output_type": "stream",
     "text": [
      "Using TensorFlow backend.\n"
     ]
    }
   ],
   "source": [
    "# To apply a classifier on this data, we need to flatten the image, to\n",
    "# turn the data in a (samples, feature) matrix:\n",
    "from keras.utils.np_utils import to_categorical\n",
    "digits.target = to_categorical(digits.target)\n",
    "\n",
    "n_samples = len(digits.images)\n",
    "data = digits.images.reshape((n_samples, -1))\n",
    "X_train = data[:n_samples // 2]\n",
    "X_test = data[n_samples // 2:]\n",
    "y_train = digits.target[:n_samples // 2]\n",
    "y_test = digits.target[n_samples // 2:]"
   ]
  },
  {
   "cell_type": "code",
   "execution_count": 4,
   "metadata": {},
   "outputs": [
    {
     "name": "stdout",
     "output_type": "stream",
     "text": [
      "Train on 628 samples, validate on 270 samples\n",
      "Epoch 1/50\n",
      "628/628 [==============================] - 0s - loss: 3.5528 - acc: 0.0939 - val_loss: 2.8245 - val_acc: 0.0963\n",
      "Epoch 2/50\n",
      "628/628 [==============================] - 0s - loss: 2.2645 - acc: 0.1704 - val_loss: 2.2308 - val_acc: 0.1667\n",
      "Epoch 3/50\n",
      "628/628 [==============================] - 0s - loss: 1.8515 - acc: 0.2914 - val_loss: 2.0140 - val_acc: 0.2296\n",
      "Epoch 4/50\n",
      "628/628 [==============================] - 0s - loss: 1.5830 - acc: 0.3997 - val_loss: 1.8729 - val_acc: 0.3185\n",
      "Epoch 5/50\n",
      "628/628 [==============================] - 0s - loss: 1.3441 - acc: 0.5159 - val_loss: 1.7270 - val_acc: 0.4037\n",
      "Epoch 6/50\n",
      "628/628 [==============================] - 0s - loss: 1.1178 - acc: 0.6162 - val_loss: 1.6091 - val_acc: 0.4704\n",
      "Epoch 7/50\n",
      "628/628 [==============================] - 0s - loss: 0.9027 - acc: 0.7086 - val_loss: 1.4482 - val_acc: 0.5481\n",
      "Epoch 8/50\n",
      "628/628 [==============================] - 0s - loss: 0.7269 - acc: 0.7834 - val_loss: 1.3103 - val_acc: 0.5852\n",
      "Epoch 9/50\n",
      "628/628 [==============================] - 0s - loss: 0.6022 - acc: 0.8264 - val_loss: 1.2288 - val_acc: 0.6185\n",
      "Epoch 10/50\n",
      "628/628 [==============================] - 0s - loss: 0.5027 - acc: 0.8535 - val_loss: 1.1122 - val_acc: 0.6667\n",
      "Epoch 11/50\n",
      "628/628 [==============================] - 0s - loss: 0.4288 - acc: 0.8742 - val_loss: 1.0310 - val_acc: 0.6889\n",
      "Epoch 12/50\n",
      "628/628 [==============================] - 0s - loss: 0.3726 - acc: 0.8917 - val_loss: 0.9273 - val_acc: 0.7185\n",
      "Epoch 13/50\n",
      "628/628 [==============================] - 0s - loss: 0.3329 - acc: 0.9092 - val_loss: 0.8831 - val_acc: 0.7481\n",
      "Epoch 14/50\n",
      "628/628 [==============================] - 0s - loss: 0.2926 - acc: 0.9252 - val_loss: 0.8172 - val_acc: 0.7481\n",
      "Epoch 15/50\n",
      "628/628 [==============================] - 0s - loss: 0.2648 - acc: 0.9315 - val_loss: 0.7871 - val_acc: 0.7630\n",
      "Epoch 16/50\n",
      "628/628 [==============================] - 0s - loss: 0.2369 - acc: 0.9363 - val_loss: 0.7506 - val_acc: 0.7778\n",
      "Epoch 17/50\n",
      "628/628 [==============================] - 0s - loss: 0.2162 - acc: 0.9427 - val_loss: 0.7430 - val_acc: 0.7741\n",
      "Epoch 18/50\n",
      "628/628 [==============================] - 0s - loss: 0.1940 - acc: 0.9443 - val_loss: 0.6757 - val_acc: 0.8000\n",
      "Epoch 19/50\n",
      "628/628 [==============================] - 0s - loss: 0.1784 - acc: 0.9506 - val_loss: 0.7150 - val_acc: 0.7778\n",
      "Epoch 20/50\n",
      "628/628 [==============================] - 0s - loss: 0.1632 - acc: 0.9570 - val_loss: 0.6283 - val_acc: 0.8148\n",
      "Epoch 21/50\n",
      "628/628 [==============================] - 0s - loss: 0.1471 - acc: 0.9586 - val_loss: 0.6559 - val_acc: 0.8000\n",
      "Epoch 22/50\n",
      "628/628 [==============================] - 0s - loss: 0.1319 - acc: 0.9682 - val_loss: 0.6242 - val_acc: 0.8000\n",
      "Epoch 23/50\n",
      "628/628 [==============================] - 0s - loss: 0.1227 - acc: 0.9666 - val_loss: 0.6053 - val_acc: 0.8037\n",
      "Epoch 24/50\n",
      "628/628 [==============================] - 0s - loss: 0.1096 - acc: 0.9761 - val_loss: 0.5971 - val_acc: 0.8037\n",
      "Epoch 25/50\n",
      "628/628 [==============================] - 0s - loss: 0.1009 - acc: 0.9793 - val_loss: 0.5778 - val_acc: 0.8037\n",
      "Epoch 26/50\n",
      "628/628 [==============================] - 0s - loss: 0.0921 - acc: 0.9793 - val_loss: 0.5964 - val_acc: 0.8111\n",
      "Epoch 27/50\n",
      "628/628 [==============================] - 0s - loss: 0.0837 - acc: 0.9793 - val_loss: 0.5570 - val_acc: 0.8148\n",
      "Epoch 28/50\n",
      "628/628 [==============================] - 0s - loss: 0.0779 - acc: 0.9841 - val_loss: 0.5736 - val_acc: 0.8222\n",
      "Epoch 29/50\n",
      "628/628 [==============================] - 0s - loss: 0.0697 - acc: 0.9889 - val_loss: 0.5260 - val_acc: 0.8296\n",
      "Epoch 30/50\n",
      "628/628 [==============================] - 0s - loss: 0.0657 - acc: 0.9889 - val_loss: 0.5323 - val_acc: 0.8296\n",
      "Epoch 31/50\n",
      "628/628 [==============================] - 0s - loss: 0.0589 - acc: 0.9889 - val_loss: 0.5521 - val_acc: 0.8222\n",
      "Epoch 32/50\n",
      "628/628 [==============================] - 0s - loss: 0.0531 - acc: 0.9920 - val_loss: 0.5176 - val_acc: 0.8333\n",
      "Epoch 33/50\n",
      "628/628 [==============================] - 0s - loss: 0.0506 - acc: 0.9904 - val_loss: 0.5278 - val_acc: 0.8259\n",
      "Epoch 34/50\n",
      "628/628 [==============================] - 0s - loss: 0.0452 - acc: 0.9936 - val_loss: 0.5167 - val_acc: 0.8370\n",
      "Epoch 35/50\n",
      "628/628 [==============================] - 0s - loss: 0.0428 - acc: 0.9936 - val_loss: 0.5072 - val_acc: 0.8444\n",
      "Epoch 36/50\n",
      "628/628 [==============================] - 0s - loss: 0.0397 - acc: 0.9936 - val_loss: 0.4996 - val_acc: 0.8556\n",
      "Epoch 37/50\n",
      "628/628 [==============================] - 0s - loss: 0.0361 - acc: 0.9968 - val_loss: 0.4945 - val_acc: 0.8519\n",
      "Epoch 38/50\n",
      "628/628 [==============================] - 0s - loss: 0.0334 - acc: 0.9936 - val_loss: 0.4858 - val_acc: 0.8556\n",
      "Epoch 39/50\n",
      "628/628 [==============================] - 0s - loss: 0.0320 - acc: 0.9984 - val_loss: 0.4844 - val_acc: 0.8556\n",
      "Epoch 40/50\n",
      "628/628 [==============================] - 0s - loss: 0.0297 - acc: 0.9984 - val_loss: 0.4833 - val_acc: 0.8593\n",
      "Epoch 41/50\n",
      "628/628 [==============================] - 0s - loss: 0.0280 - acc: 0.9984 - val_loss: 0.4796 - val_acc: 0.8667\n",
      "Epoch 42/50\n",
      "628/628 [==============================] - 0s - loss: 0.0257 - acc: 1.0000 - val_loss: 0.4872 - val_acc: 0.8630\n",
      "Epoch 43/50\n",
      "628/628 [==============================] - 0s - loss: 0.0247 - acc: 1.0000 - val_loss: 0.4869 - val_acc: 0.8667\n",
      "Epoch 44/50\n",
      "628/628 [==============================] - 0s - loss: 0.0231 - acc: 1.0000 - val_loss: 0.4726 - val_acc: 0.8704\n",
      "Epoch 45/50\n",
      "628/628 [==============================] - 0s - loss: 0.0216 - acc: 1.0000 - val_loss: 0.4744 - val_acc: 0.8815\n",
      "Epoch 46/50\n",
      "628/628 [==============================] - 0s - loss: 0.0213 - acc: 0.9984 - val_loss: 0.4635 - val_acc: 0.8815\n",
      "Epoch 47/50\n",
      "628/628 [==============================] - 0s - loss: 0.0203 - acc: 1.0000 - val_loss: 0.4681 - val_acc: 0.8889\n",
      "Epoch 48/50\n",
      "628/628 [==============================] - 0s - loss: 0.0183 - acc: 1.0000 - val_loss: 0.4600 - val_acc: 0.8852\n",
      "Epoch 49/50\n",
      "628/628 [==============================] - 0s - loss: 0.0170 - acc: 1.0000 - val_loss: 0.4553 - val_acc: 0.8926\n",
      "Epoch 50/50\n",
      "628/628 [==============================] - 0s - loss: 0.0166 - acc: 1.0000 - val_loss: 0.4630 - val_acc: 0.8852\n"
     ]
    },
    {
     "data": {
      "text/plain": [
       "<keras.callbacks.History at 0x11dd6bc18>"
      ]
     },
     "execution_count": 4,
     "metadata": {},
     "output_type": "execute_result"
    }
   ],
   "source": [
    "from keras.models import Sequential\n",
    "from keras.layers import Dense\n",
    "from keras.callbacks import EarlyStopping\n",
    "from numpy.random import seed\n",
    "seed(8)\n",
    "model = Sequential()\n",
    "model.add(Dense(20, input_shape=(data.shape[1],), activation='relu')) #first hidden layer, 20 relu nodes\n",
    "model.add(Dense(20, activation='relu'))\n",
    "model.add(Dense(10, activation='softmax'))\n",
    "model.compile(optimizer='adam', loss='categorical_crossentropy', metrics=['accuracy'])\n",
    "model.fit(X_train, y_train, validation_split=0.3, epochs=50, callbacks=[EarlyStopping(patience=2)])"
   ]
  },
  {
   "cell_type": "code",
   "execution_count": 5,
   "metadata": {},
   "outputs": [
    {
     "data": {
      "text/html": [
       "<div>\n",
       "<style>\n",
       "    .dataframe thead tr:only-child th {\n",
       "        text-align: right;\n",
       "    }\n",
       "\n",
       "    .dataframe thead th {\n",
       "        text-align: left;\n",
       "    }\n",
       "\n",
       "    .dataframe tbody tr th {\n",
       "        vertical-align: top;\n",
       "    }\n",
       "</style>\n",
       "<table border=\"1\" class=\"dataframe\">\n",
       "  <thead>\n",
       "    <tr style=\"text-align: right;\">\n",
       "      <th></th>\n",
       "      <th>precision</th>\n",
       "      <th>recall</th>\n",
       "      <th>f1-score</th>\n",
       "      <th>support</th>\n",
       "    </tr>\n",
       "    <tr>\n",
       "      <th>Digit</th>\n",
       "      <th></th>\n",
       "      <th></th>\n",
       "      <th></th>\n",
       "      <th></th>\n",
       "    </tr>\n",
       "  </thead>\n",
       "  <tbody>\n",
       "    <tr>\n",
       "      <th>0</th>\n",
       "      <td>0.99</td>\n",
       "      <td>0.94</td>\n",
       "      <td>0.97</td>\n",
       "      <td>88</td>\n",
       "    </tr>\n",
       "    <tr>\n",
       "      <th>1</th>\n",
       "      <td>0.93</td>\n",
       "      <td>0.81</td>\n",
       "      <td>0.87</td>\n",
       "      <td>91</td>\n",
       "    </tr>\n",
       "    <tr>\n",
       "      <th>2</th>\n",
       "      <td>0.93</td>\n",
       "      <td>0.88</td>\n",
       "      <td>0.90</td>\n",
       "      <td>86</td>\n",
       "    </tr>\n",
       "    <tr>\n",
       "      <th>3</th>\n",
       "      <td>0.87</td>\n",
       "      <td>0.84</td>\n",
       "      <td>0.85</td>\n",
       "      <td>91</td>\n",
       "    </tr>\n",
       "    <tr>\n",
       "      <th>4</th>\n",
       "      <td>0.95</td>\n",
       "      <td>0.96</td>\n",
       "      <td>0.95</td>\n",
       "      <td>92</td>\n",
       "    </tr>\n",
       "    <tr>\n",
       "      <th>5</th>\n",
       "      <td>0.87</td>\n",
       "      <td>0.88</td>\n",
       "      <td>0.87</td>\n",
       "      <td>91</td>\n",
       "    </tr>\n",
       "    <tr>\n",
       "      <th>6</th>\n",
       "      <td>0.86</td>\n",
       "      <td>0.95</td>\n",
       "      <td>0.90</td>\n",
       "      <td>91</td>\n",
       "    </tr>\n",
       "    <tr>\n",
       "      <th>7</th>\n",
       "      <td>0.92</td>\n",
       "      <td>0.88</td>\n",
       "      <td>0.90</td>\n",
       "      <td>89</td>\n",
       "    </tr>\n",
       "    <tr>\n",
       "      <th>8</th>\n",
       "      <td>0.74</td>\n",
       "      <td>0.74</td>\n",
       "      <td>0.74</td>\n",
       "      <td>88</td>\n",
       "    </tr>\n",
       "    <tr>\n",
       "      <th>9</th>\n",
       "      <td>0.77</td>\n",
       "      <td>0.90</td>\n",
       "      <td>0.83</td>\n",
       "      <td>92</td>\n",
       "    </tr>\n",
       "    <tr>\n",
       "      <th>avg</th>\n",
       "      <td>None</td>\n",
       "      <td>None</td>\n",
       "      <td>None</td>\n",
       "      <td>None</td>\n",
       "    </tr>\n",
       "    <tr>\n",
       "      <th>total</th>\n",
       "      <td>0.88</td>\n",
       "      <td>0.88</td>\n",
       "      <td>0.88</td>\n",
       "      <td>899</td>\n",
       "    </tr>\n",
       "  </tbody>\n",
       "</table>\n",
       "</div>"
      ],
      "text/plain": [
       "      precision recall f1-score support\n",
       "Digit                                  \n",
       "0          0.99   0.94     0.97      88\n",
       "1          0.93   0.81     0.87      91\n",
       "2          0.93   0.88     0.90      86\n",
       "3          0.87   0.84     0.85      91\n",
       "4          0.95   0.96     0.95      92\n",
       "5          0.87   0.88     0.87      91\n",
       "6          0.86   0.95     0.90      91\n",
       "7          0.92   0.88     0.90      89\n",
       "8          0.74   0.74     0.74      88\n",
       "9          0.77   0.90     0.83      92\n",
       "avg        None   None     None    None\n",
       "total      0.88   0.88     0.88     899"
      ]
     },
     "execution_count": 5,
     "metadata": {},
     "output_type": "execute_result"
    }
   ],
   "source": [
    "predictions = model.predict(X_test)\n",
    "# The classification report required 1D arrays, so I'll convert everything to max probability\n",
    "from numpy import argmax\n",
    "predictions1D = argmax(predictions, axis=1) #should have shape (899,)\n",
    "y_test1D = argmax(y_test, axis=1)\n",
    "report = metrics.classification_report(y_test1D, predictions1D)\n",
    "\n",
    "import pandas as pd #for formatting\n",
    "df = pd.DataFrame([x.split() for x in report.replace('/', '\\n').split('\\n')]) #have a problematic slash in there\n",
    "from numpy import concatenate, array\n",
    "df.columns = concatenate([array(['Digit']), df.iloc[0,:-1]])\n",
    "df.drop(df.index[:2], inplace=True)\n",
    "df.set_index('Digit', inplace=True)\n",
    "df.drop(df.index[pd.isnull(df.index.values)], inplace=True)\n",
    "df"
   ]
  },
  {
   "cell_type": "markdown",
   "metadata": {},
   "source": [
    "This looks like it stabilized around 86% accuracy. "
   ]
  },
  {
   "cell_type": "code",
   "execution_count": 6,
   "metadata": {},
   "outputs": [
    {
     "data": {
      "text/plain": [
       "0.8776418242491657"
      ]
     },
     "execution_count": 6,
     "metadata": {},
     "output_type": "execute_result"
    }
   ],
   "source": [
    "sum(predictions1D == y_test1D)/len(y_test1D)"
   ]
  },
  {
   "cell_type": "markdown",
   "metadata": {},
   "source": [
    "This is much worse than, say, SVM, which got to 97%."
   ]
  },
  {
   "cell_type": "code",
   "execution_count": null,
   "metadata": {
    "collapsed": true
   },
   "outputs": [],
   "source": []
  }
 ],
 "metadata": {
  "kernelspec": {
   "display_name": "Python 3",
   "language": "python",
   "name": "python3"
  },
  "language_info": {
   "codemirror_mode": {
    "name": "ipython",
    "version": 3
   },
   "file_extension": ".py",
   "mimetype": "text/x-python",
   "name": "python",
   "nbconvert_exporter": "python",
   "pygments_lexer": "ipython3",
   "version": "3.6.1"
  }
 },
 "nbformat": 4,
 "nbformat_minor": 2
}
