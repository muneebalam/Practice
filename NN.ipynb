{
 "cells": [
  {
   "cell_type": "code",
   "execution_count": 1,
   "metadata": {
    "collapsed": true
   },
   "outputs": [],
   "source": [
    "# Standard scientific Python imports\n",
    "import matplotlib.pyplot as plt\n",
    "\n",
    "# Import datasets, classifiers and performance metrics\n",
    "from sklearn import datasets, svm, metrics\n",
    "\n",
    "# The digits dataset\n",
    "digits = datasets.load_digits()\n",
    "\n",
    "# The data that we are interested in is made of 8x8 images of digits, let's\n",
    "# have a look at the first 4 images, stored in the `images` attribute of the\n",
    "# dataset.  If we were working from image files, we could load them using\n",
    "# matplotlib.pyplot.imread.  Note that each image must have the same size. For these\n",
    "# images, we know which digit they represent: it is given in the 'target' of\n",
    "# the dataset."
   ]
  },
  {
   "cell_type": "code",
   "execution_count": 2,
   "metadata": {
    "collapsed": true
   },
   "outputs": [],
   "source": [
    "images_and_labels = list(zip(digits.images, digits.target))\n",
    "for index, (image, label) in enumerate(images_and_labels[:4]):\n",
    "    plt.subplot(2, 4, index + 1)\n",
    "    plt.axis('off')\n",
    "    plt.imshow(image, cmap=plt.cm.gray_r, interpolation='nearest')\n",
    "    plt.title('Training: %i' % label)"
   ]
  },
  {
   "cell_type": "code",
   "execution_count": 20,
   "metadata": {},
   "outputs": [],
   "source": [
    "# To apply a classifier on this data, we need to flatten the image, to\n",
    "# turn the data in a (samples, feature) matrix:\n",
    "from keras.utils.np_utils import to_categorical\n",
    "digits.target = to_categorical(digits.target)\n",
    "\n",
    "n_samples = len(digits.images)\n",
    "data = digits.images.reshape((n_samples, -1))\n",
    "X_train = data[:n_samples // 2]\n",
    "X_test = data[n_samples // 2:]\n",
    "y_train = digits.target[:n_samples // 2]\n",
    "y_test = digits.target[n_samples // 2:]"
   ]
  },
  {
   "cell_type": "code",
   "execution_count": 73,
   "metadata": {},
   "outputs": [
    {
     "name": "stdout",
     "output_type": "stream",
     "text": [
      "Train on 628 samples, validate on 270 samples\n",
      "Epoch 1/50\n",
      "628/628 [==============================] - 0s - loss: 3.5451 - acc: 0.0939 - val_loss: 2.8188 - val_acc: 0.1000\n",
      "Epoch 2/50\n",
      "628/628 [==============================] - 0s - loss: 2.2618 - acc: 0.1704 - val_loss: 2.2273 - val_acc: 0.1852\n",
      "Epoch 3/50\n",
      "628/628 [==============================] - 0s - loss: 1.8517 - acc: 0.2882 - val_loss: 2.0002 - val_acc: 0.2444\n",
      "Epoch 4/50\n",
      "628/628 [==============================] - 0s - loss: 1.5874 - acc: 0.3933 - val_loss: 1.8647 - val_acc: 0.3185\n",
      "Epoch 5/50\n",
      "628/628 [==============================] - 0s - loss: 1.3492 - acc: 0.5000 - val_loss: 1.7184 - val_acc: 0.4074\n",
      "Epoch 6/50\n",
      "628/628 [==============================] - 0s - loss: 1.1287 - acc: 0.6035 - val_loss: 1.6187 - val_acc: 0.4667\n",
      "Epoch 7/50\n",
      "628/628 [==============================] - 0s - loss: 0.9168 - acc: 0.7022 - val_loss: 1.4550 - val_acc: 0.5370\n",
      "Epoch 8/50\n",
      "628/628 [==============================] - 0s - loss: 0.7392 - acc: 0.7818 - val_loss: 1.3169 - val_acc: 0.5815\n",
      "Epoch 9/50\n",
      "628/628 [==============================] - 0s - loss: 0.6142 - acc: 0.8153 - val_loss: 1.2443 - val_acc: 0.6111\n",
      "Epoch 10/50\n",
      "628/628 [==============================] - 0s - loss: 0.5125 - acc: 0.8487 - val_loss: 1.1262 - val_acc: 0.6481\n",
      "Epoch 11/50\n",
      "628/628 [==============================] - 0s - loss: 0.4375 - acc: 0.8758 - val_loss: 1.0313 - val_acc: 0.6815\n",
      "Epoch 12/50\n",
      "628/628 [==============================] - 0s - loss: 0.3775 - acc: 0.8901 - val_loss: 0.9276 - val_acc: 0.7185\n",
      "Epoch 13/50\n",
      "628/628 [==============================] - 0s - loss: 0.3345 - acc: 0.9092 - val_loss: 0.8836 - val_acc: 0.7407\n",
      "Epoch 14/50\n",
      "628/628 [==============================] - 0s - loss: 0.2934 - acc: 0.9236 - val_loss: 0.8138 - val_acc: 0.7481\n",
      "Epoch 15/50\n",
      "628/628 [==============================] - 0s - loss: 0.2643 - acc: 0.9331 - val_loss: 0.7828 - val_acc: 0.7630\n",
      "Epoch 16/50\n",
      "628/628 [==============================] - 0s - loss: 0.2372 - acc: 0.9411 - val_loss: 0.7568 - val_acc: 0.7741\n",
      "Epoch 17/50\n",
      "628/628 [==============================] - 0s - loss: 0.2179 - acc: 0.9475 - val_loss: 0.7306 - val_acc: 0.7778\n",
      "Epoch 18/50\n",
      "628/628 [==============================] - 0s - loss: 0.1966 - acc: 0.9490 - val_loss: 0.6722 - val_acc: 0.8000\n",
      "Epoch 19/50\n",
      "628/628 [==============================] - 0s - loss: 0.1802 - acc: 0.9538 - val_loss: 0.7218 - val_acc: 0.7704\n",
      "Epoch 20/50\n",
      "628/628 [==============================] - 0s - loss: 0.1681 - acc: 0.9634 - val_loss: 0.6420 - val_acc: 0.8037\n",
      "Epoch 21/50\n",
      "628/628 [==============================] - 0s - loss: 0.1509 - acc: 0.9618 - val_loss: 0.6696 - val_acc: 0.7963\n",
      "Epoch 22/50\n",
      "628/628 [==============================] - 0s - loss: 0.1348 - acc: 0.9729 - val_loss: 0.6356 - val_acc: 0.8000\n",
      "Epoch 23/50\n",
      "628/628 [==============================] - 0s - loss: 0.1250 - acc: 0.9697 - val_loss: 0.6273 - val_acc: 0.8000\n",
      "Epoch 24/50\n",
      "628/628 [==============================] - 0s - loss: 0.1136 - acc: 0.9777 - val_loss: 0.6191 - val_acc: 0.7963\n",
      "Epoch 25/50\n",
      "628/628 [==============================] - 0s - loss: 0.1053 - acc: 0.9793 - val_loss: 0.5852 - val_acc: 0.8111\n",
      "Epoch 26/50\n",
      "628/628 [==============================] - 0s - loss: 0.0972 - acc: 0.9777 - val_loss: 0.6097 - val_acc: 0.8000\n",
      "Epoch 27/50\n",
      "628/628 [==============================] - 0s - loss: 0.0881 - acc: 0.9809 - val_loss: 0.5613 - val_acc: 0.8074\n",
      "Epoch 28/50\n",
      "628/628 [==============================] - 0s - loss: 0.0829 - acc: 0.9825 - val_loss: 0.5865 - val_acc: 0.8185\n",
      "Epoch 29/50\n",
      "628/628 [==============================] - 0s - loss: 0.0744 - acc: 0.9889 - val_loss: 0.5551 - val_acc: 0.8111\n",
      "Epoch 30/50\n",
      "628/628 [==============================] - 0s - loss: 0.0686 - acc: 0.9873 - val_loss: 0.5514 - val_acc: 0.8185\n",
      "Epoch 31/50\n",
      "628/628 [==============================] - 0s - loss: 0.0619 - acc: 0.9889 - val_loss: 0.5663 - val_acc: 0.8222\n",
      "Epoch 32/50\n",
      "628/628 [==============================] - 0s - loss: 0.0558 - acc: 0.9920 - val_loss: 0.5489 - val_acc: 0.8296\n",
      "Epoch 33/50\n",
      "628/628 [==============================] - 0s - loss: 0.0530 - acc: 0.9889 - val_loss: 0.5542 - val_acc: 0.8222\n",
      "Epoch 34/50\n",
      "628/628 [==============================] - 0s - loss: 0.0476 - acc: 0.9920 - val_loss: 0.5397 - val_acc: 0.8407\n",
      "Epoch 35/50\n",
      "628/628 [==============================] - 0s - loss: 0.0448 - acc: 0.9936 - val_loss: 0.5426 - val_acc: 0.8370\n",
      "Epoch 36/50\n",
      "628/628 [==============================] - 0s - loss: 0.0413 - acc: 0.9952 - val_loss: 0.5299 - val_acc: 0.8481\n",
      "Epoch 37/50\n",
      "628/628 [==============================] - 0s - loss: 0.0383 - acc: 0.9968 - val_loss: 0.5378 - val_acc: 0.8370\n",
      "Epoch 38/50\n",
      "628/628 [==============================] - 0s - loss: 0.0353 - acc: 0.9952 - val_loss: 0.5278 - val_acc: 0.8519\n",
      "Epoch 39/50\n",
      "628/628 [==============================] - 0s - loss: 0.0336 - acc: 1.0000 - val_loss: 0.5168 - val_acc: 0.8519\n",
      "Epoch 40/50\n",
      "628/628 [==============================] - 0s - loss: 0.0309 - acc: 0.9968 - val_loss: 0.5257 - val_acc: 0.8481\n",
      "Epoch 41/50\n",
      "628/628 [==============================] - 0s - loss: 0.0291 - acc: 0.9984 - val_loss: 0.5230 - val_acc: 0.8444\n",
      "Epoch 42/50\n",
      "628/628 [==============================] - 0s - loss: 0.0266 - acc: 1.0000 - val_loss: 0.5363 - val_acc: 0.8519\n"
     ]
    },
    {
     "data": {
      "text/plain": [
       "<keras.callbacks.History at 0x12e8866d8>"
      ]
     },
     "execution_count": 73,
     "metadata": {},
     "output_type": "execute_result"
    }
   ],
   "source": [
    "from keras.models import Sequential\n",
    "from keras.layers import Dense\n",
    "from keras.callbacks import EarlyStopping\n",
    "from numpy.random import seed\n",
    "seed(8)\n",
    "model = Sequential()\n",
    "model.add(Dense(20, input_shape=(data.shape[1],), activation='relu')) #first hidden layer, 20 relu nodes\n",
    "model.add(Dense(20, activation='relu'))\n",
    "model.add(Dense(10, activation='softmax'))\n",
    "model.compile(optimizer='adam', loss='categorical_crossentropy', metrics=['accuracy'])\n",
    "model.fit(X_train, y_train, validation_split=0.3, epochs=50, callbacks=[EarlyStopping(patience=2)])"
   ]
  },
  {
   "cell_type": "code",
   "execution_count": 74,
   "metadata": {},
   "outputs": [
    {
     "data": {
      "text/html": [
       "<div>\n",
       "<style>\n",
       "    .dataframe thead tr:only-child th {\n",
       "        text-align: right;\n",
       "    }\n",
       "\n",
       "    .dataframe thead th {\n",
       "        text-align: left;\n",
       "    }\n",
       "\n",
       "    .dataframe tbody tr th {\n",
       "        vertical-align: top;\n",
       "    }\n",
       "</style>\n",
       "<table border=\"1\" class=\"dataframe\">\n",
       "  <thead>\n",
       "    <tr style=\"text-align: right;\">\n",
       "      <th></th>\n",
       "      <th>precision</th>\n",
       "      <th>recall</th>\n",
       "      <th>f1-score</th>\n",
       "      <th>support</th>\n",
       "    </tr>\n",
       "    <tr>\n",
       "      <th>Digit</th>\n",
       "      <th></th>\n",
       "      <th></th>\n",
       "      <th></th>\n",
       "      <th></th>\n",
       "    </tr>\n",
       "  </thead>\n",
       "  <tbody>\n",
       "    <tr>\n",
       "      <th>0</th>\n",
       "      <td>0.99</td>\n",
       "      <td>0.95</td>\n",
       "      <td>0.97</td>\n",
       "      <td>88</td>\n",
       "    </tr>\n",
       "    <tr>\n",
       "      <th>1</th>\n",
       "      <td>0.92</td>\n",
       "      <td>0.75</td>\n",
       "      <td>0.82</td>\n",
       "      <td>91</td>\n",
       "    </tr>\n",
       "    <tr>\n",
       "      <th>2</th>\n",
       "      <td>0.91</td>\n",
       "      <td>0.91</td>\n",
       "      <td>0.91</td>\n",
       "      <td>86</td>\n",
       "    </tr>\n",
       "    <tr>\n",
       "      <th>3</th>\n",
       "      <td>0.92</td>\n",
       "      <td>0.84</td>\n",
       "      <td>0.87</td>\n",
       "      <td>91</td>\n",
       "    </tr>\n",
       "    <tr>\n",
       "      <th>4</th>\n",
       "      <td>0.98</td>\n",
       "      <td>0.95</td>\n",
       "      <td>0.96</td>\n",
       "      <td>92</td>\n",
       "    </tr>\n",
       "    <tr>\n",
       "      <th>5</th>\n",
       "      <td>0.87</td>\n",
       "      <td>0.79</td>\n",
       "      <td>0.83</td>\n",
       "      <td>91</td>\n",
       "    </tr>\n",
       "    <tr>\n",
       "      <th>6</th>\n",
       "      <td>0.82</td>\n",
       "      <td>0.98</td>\n",
       "      <td>0.89</td>\n",
       "      <td>91</td>\n",
       "    </tr>\n",
       "    <tr>\n",
       "      <th>7</th>\n",
       "      <td>0.90</td>\n",
       "      <td>0.84</td>\n",
       "      <td>0.87</td>\n",
       "      <td>89</td>\n",
       "    </tr>\n",
       "    <tr>\n",
       "      <th>8</th>\n",
       "      <td>0.69</td>\n",
       "      <td>0.75</td>\n",
       "      <td>0.72</td>\n",
       "      <td>88</td>\n",
       "    </tr>\n",
       "    <tr>\n",
       "      <th>9</th>\n",
       "      <td>0.75</td>\n",
       "      <td>0.91</td>\n",
       "      <td>0.82</td>\n",
       "      <td>92</td>\n",
       "    </tr>\n",
       "    <tr>\n",
       "      <th>avg</th>\n",
       "      <td>None</td>\n",
       "      <td>None</td>\n",
       "      <td>None</td>\n",
       "      <td>None</td>\n",
       "    </tr>\n",
       "    <tr>\n",
       "      <th>total</th>\n",
       "      <td>0.87</td>\n",
       "      <td>0.87</td>\n",
       "      <td>0.87</td>\n",
       "      <td>899</td>\n",
       "    </tr>\n",
       "  </tbody>\n",
       "</table>\n",
       "</div>"
      ],
      "text/plain": [
       "      precision recall f1-score support\n",
       "Digit                                  \n",
       "0          0.99   0.95     0.97      88\n",
       "1          0.92   0.75     0.82      91\n",
       "2          0.91   0.91     0.91      86\n",
       "3          0.92   0.84     0.87      91\n",
       "4          0.98   0.95     0.96      92\n",
       "5          0.87   0.79     0.83      91\n",
       "6          0.82   0.98     0.89      91\n",
       "7          0.90   0.84     0.87      89\n",
       "8          0.69   0.75     0.72      88\n",
       "9          0.75   0.91     0.82      92\n",
       "avg        None   None     None    None\n",
       "total      0.87   0.87     0.87     899"
      ]
     },
     "execution_count": 74,
     "metadata": {},
     "output_type": "execute_result"
    }
   ],
   "source": [
    "predictions = model.predict(X_test)\n",
    "# The classification report required 1D arrays, so I'll convert everything to max probability\n",
    "from numpy import argmax\n",
    "predictions1D = argmax(predictions, axis=1) #should have shape (899,)\n",
    "y_test1D = argmax(y_test, axis=1)\n",
    "report = metrics.classification_report(y_test1D, predictions1D)\n",
    "\n",
    "import pandas as pd #for formatting\n",
    "df = pd.DataFrame([x.split() for x in report.replace('/', '\\n').split('\\n')]) #have a problematic slash in there\n",
    "from numpy import concatenate, array\n",
    "df.columns = concatenate([array(['Digit']), df.iloc[0,:-1]])\n",
    "df.drop(df.index[:2], inplace=True)\n",
    "df.set_index('Digit', inplace=True)\n",
    "df.drop(df.index[pd.isnull(df.index.values)], inplace=True)\n",
    "df"
   ]
  },
  {
   "cell_type": "markdown",
   "metadata": {},
   "source": [
    "This looks like it stabilized around 86% accuracy. "
   ]
  },
  {
   "cell_type": "code",
   "execution_count": 77,
   "metadata": {},
   "outputs": [
    {
     "data": {
      "text/plain": [
       "0.86651835372636266"
      ]
     },
     "execution_count": 77,
     "metadata": {},
     "output_type": "execute_result"
    }
   ],
   "source": [
    "sum(predictions1D == y_test1D)/len(y_test1D)"
   ]
  },
  {
   "cell_type": "markdown",
   "metadata": {},
   "source": [
    "This is much worse than, say, SVM, which got to 97%."
   ]
  },
  {
   "cell_type": "code",
   "execution_count": null,
   "metadata": {
    "collapsed": true
   },
   "outputs": [],
   "source": []
  }
 ],
 "metadata": {
  "kernelspec": {
   "display_name": "Python 3",
   "language": "python",
   "name": "python3"
  },
  "language_info": {
   "codemirror_mode": {
    "name": "ipython",
    "version": 3
   },
   "file_extension": ".py",
   "mimetype": "text/x-python",
   "name": "python",
   "nbconvert_exporter": "python",
   "pygments_lexer": "ipython3",
   "version": "3.6.1"
  }
 },
 "nbformat": 4,
 "nbformat_minor": 2
}
